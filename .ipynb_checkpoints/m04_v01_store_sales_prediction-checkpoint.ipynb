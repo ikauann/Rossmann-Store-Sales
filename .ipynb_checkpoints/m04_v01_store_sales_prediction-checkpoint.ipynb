{
 "cells": [
  {
   "cell_type": "markdown",
   "id": "a06afabd",
   "metadata": {
    "heading_collapsed": true
   },
   "source": [
    "#  IMPORTS"
   ]
  },
  {
   "cell_type": "code",
   "execution_count": 1,
   "id": "f3b707c5",
   "metadata": {
    "ExecuteTime": {
     "end_time": "2022-06-14T12:01:55.572826Z",
     "start_time": "2022-06-14T12:01:53.406433Z"
    },
    "hidden": true
   },
   "outputs": [],
   "source": [
    "import pandas as pd\n",
    "import math\n",
    "import numpy as np\n",
    "import seaborn as sns"
   ]
  },
  {
   "cell_type": "markdown",
   "id": "bf4b4193",
   "metadata": {
    "hidden": true
   },
   "source": [
    "## Helper Functions"
   ]
  },
  {
   "cell_type": "code",
   "execution_count": 2,
   "id": "92919c4e",
   "metadata": {
    "ExecuteTime": {
     "end_time": "2022-06-14T12:01:55.582068Z",
     "start_time": "2022-06-14T12:01:55.575231Z"
    },
    "hidden": true
   },
   "outputs": [],
   "source": [
    "import inflection\n",
    "import datetime\n",
    "import warnings\n",
    "warnings.filterwarnings(\"ignore\")\n",
    "from matplotlib import pyplot as plt\n",
    "from IPython.display import Image\n",
    "sns.set(rc = {'figure.figsize':(15,8)})"
   ]
  },
  {
   "cell_type": "markdown",
   "id": "146f8241",
   "metadata": {
    "hidden": true
   },
   "source": [
    "## Loading data"
   ]
  },
  {
   "cell_type": "code",
   "execution_count": 3,
   "id": "d410fca9",
   "metadata": {
    "ExecuteTime": {
     "end_time": "2022-06-14T12:01:56.693406Z",
     "start_time": "2022-06-14T12:01:55.584803Z"
    },
    "hidden": true
   },
   "outputs": [],
   "source": [
    "df_sales_raw = pd.read_csv('./data/train.csv', low_memory=False)\n",
    "df_store_raw = pd.read_csv('./data/store.csv', low_memory=False)\n",
    "\n",
    "#merge\n",
    "df_raw = pd.merge(df_sales_raw, df_store_raw, how='left', on='Store')"
   ]
  },
  {
   "cell_type": "markdown",
   "id": "414e71c3",
   "metadata": {
    "heading_collapsed": true
   },
   "source": [
    "# DATA DESCRIPTION"
   ]
  },
  {
   "cell_type": "code",
   "execution_count": 4,
   "id": "aa5abee4",
   "metadata": {
    "ExecuteTime": {
     "end_time": "2022-06-14T12:01:56.926349Z",
     "start_time": "2022-06-14T12:01:56.696425Z"
    },
    "hidden": true
   },
   "outputs": [],
   "source": [
    "df1 = df_raw.copy()"
   ]
  },
  {
   "cell_type": "code",
   "execution_count": 5,
   "id": "86da1cf3",
   "metadata": {
    "ExecuteTime": {
     "end_time": "2022-06-14T12:01:56.940828Z",
     "start_time": "2022-06-14T12:01:56.928252Z"
    },
    "hidden": true
   },
   "outputs": [
    {
     "data": {
      "text/plain": [
       "Index(['Store', 'DayOfWeek', 'Date', 'Sales', 'Customers', 'Open', 'Promo',\n",
       "       'StateHoliday', 'SchoolHoliday', 'StoreType', 'Assortment',\n",
       "       'CompetitionDistance', 'CompetitionOpenSinceMonth',\n",
       "       'CompetitionOpenSinceYear', 'Promo2', 'Promo2SinceWeek',\n",
       "       'Promo2SinceYear', 'PromoInterval'],\n",
       "      dtype='object')"
      ]
     },
     "execution_count": 5,
     "metadata": {},
     "output_type": "execute_result"
    }
   ],
   "source": [
    "df_raw.columns"
   ]
  },
  {
   "cell_type": "markdown",
   "id": "b1f16013",
   "metadata": {
    "hidden": true
   },
   "source": [
    "## Rename  Columns"
   ]
  },
  {
   "cell_type": "code",
   "execution_count": 6,
   "id": "04d4f951",
   "metadata": {
    "ExecuteTime": {
     "end_time": "2022-06-14T12:01:56.950407Z",
     "start_time": "2022-06-14T12:01:56.943047Z"
    },
    "hidden": true
   },
   "outputs": [],
   "source": [
    "cols_old = ['Store', 'DayOfWeek', 'Date', 'Sales', 'Customers', 'Open', 'Promo',\n",
    "       'StateHoliday', 'SchoolHoliday', 'StoreType', 'Assortment',\n",
    "       'CompetitionDistance', 'CompetitionOpenSinceMonth',\n",
    "       'CompetitionOpenSinceYear', 'Promo2', 'Promo2SinceWeek',\n",
    "       'Promo2SinceYear', 'PromoInterval']\n",
    "\n",
    "snakecase = lambda x: inflection.underscore(x)\n",
    "\n",
    "cols_new = list(map(snakecase, cols_old))\n",
    "\n",
    "#rename\n",
    "df1.columns = cols_new"
   ]
  },
  {
   "cell_type": "markdown",
   "id": "676b162f",
   "metadata": {
    "hidden": true
   },
   "source": [
    "## Data DImensions"
   ]
  },
  {
   "cell_type": "code",
   "execution_count": 7,
   "id": "b5e08345",
   "metadata": {
    "ExecuteTime": {
     "end_time": "2022-06-14T12:01:56.956105Z",
     "start_time": "2022-06-14T12:01:56.952234Z"
    },
    "hidden": true
   },
   "outputs": [
    {
     "name": "stdout",
     "output_type": "stream",
     "text": [
      "number of rows: 1017209\n",
      "number of cols: 18\n"
     ]
    }
   ],
   "source": [
    "print(f'number of rows: {df1.shape[0]}')\n",
    "print(f'number of cols: {df1.shape[1]}')"
   ]
  },
  {
   "cell_type": "markdown",
   "id": "2f1ecda8",
   "metadata": {
    "hidden": true
   },
   "source": [
    "## Data Types"
   ]
  },
  {
   "cell_type": "code",
   "execution_count": 8,
   "id": "ff4292ff",
   "metadata": {
    "ExecuteTime": {
     "end_time": "2022-06-14T12:01:56.961011Z",
     "start_time": "2022-06-14T12:01:56.958276Z"
    },
    "hidden": true
   },
   "outputs": [],
   "source": [
    "# há 3 formas de lidar com dados NA.\n",
    "\n",
    "#1 - Excluindo NAs.\n",
    "    #PRÓS:\n",
    "        #Rápido e fácil.\n",
    "    #Contras:\n",
    "        #Perda de dados.\n",
    "\n",
    "#2 - Usando Mcahine learning.\n",
    "    #a partir do compartamento da coluna o algoritmo preenche esses dados faltantes.\n",
    "    \n",
    "#3 - Pensando no negocio."
   ]
  },
  {
   "cell_type": "code",
   "execution_count": 9,
   "id": "a7cfbdae",
   "metadata": {
    "ExecuteTime": {
     "end_time": "2022-06-14T12:01:57.110049Z",
     "start_time": "2022-06-14T12:01:56.963692Z"
    },
    "hidden": true
   },
   "outputs": [
    {
     "data": {
      "text/plain": [
       "store                                    int64\n",
       "day_of_week                              int64\n",
       "date                            datetime64[ns]\n",
       "sales                                    int64\n",
       "customers                                int64\n",
       "open                                     int64\n",
       "promo                                    int64\n",
       "state_holiday                           object\n",
       "school_holiday                           int64\n",
       "store_type                              object\n",
       "assortment                              object\n",
       "competition_distance                   float64\n",
       "competition_open_since_month           float64\n",
       "competition_open_since_year            float64\n",
       "promo2                                   int64\n",
       "promo2_since_week                      float64\n",
       "promo2_since_year                      float64\n",
       "promo_interval                          object\n",
       "dtype: object"
      ]
     },
     "execution_count": 9,
     "metadata": {},
     "output_type": "execute_result"
    }
   ],
   "source": [
    "df1['date'] = pd.to_datetime(df1['date'])\n",
    "df1.dtypes"
   ]
  },
  {
   "cell_type": "markdown",
   "id": "bc604e29",
   "metadata": {
    "hidden": true
   },
   "source": [
    "## Check NA"
   ]
  },
  {
   "cell_type": "code",
   "execution_count": 10,
   "id": "a0fb0d66",
   "metadata": {
    "ExecuteTime": {
     "end_time": "2022-06-14T12:01:57.116756Z",
     "start_time": "2022-06-14T12:01:57.113774Z"
    },
    "hidden": true
   },
   "outputs": [],
   "source": [
    "# há 3 formas de lidar com dados NA.\n",
    "\n",
    "#1 - Excluindo NAs.\n",
    "    #PRÓS:\n",
    "        #Rápido e fácil.\n",
    "    #Contras:\n",
    "        #Perda de dados.\n",
    "\n",
    "#2 - Usando Mcahine learning.\n",
    "    #a partir do compartamento da coluna o algoritmo preenche esses dados faltantes.\n",
    "    \n",
    "#3 - Pensando no negocio."
   ]
  },
  {
   "cell_type": "code",
   "execution_count": 11,
   "id": "f3cde861",
   "metadata": {
    "ExecuteTime": {
     "end_time": "2022-06-14T12:01:57.799817Z",
     "start_time": "2022-06-14T12:01:57.118696Z"
    },
    "hidden": true
   },
   "outputs": [
    {
     "data": {
      "text/plain": [
       "store                                0\n",
       "day_of_week                          0\n",
       "date                                 0\n",
       "sales                                0\n",
       "customers                            0\n",
       "open                                 0\n",
       "promo                                0\n",
       "state_holiday                        0\n",
       "school_holiday                       0\n",
       "store_type                           0\n",
       "assortment                           0\n",
       "competition_distance              2642\n",
       "competition_open_since_month    323348\n",
       "competition_open_since_year     323348\n",
       "promo2                               0\n",
       "promo2_since_week               508031\n",
       "promo2_since_year               508031\n",
       "promo_interval                  508031\n",
       "dtype: int64"
      ]
     },
     "execution_count": 11,
     "metadata": {},
     "output_type": "execute_result"
    }
   ],
   "source": [
    "df1.isna().sum()"
   ]
  },
  {
   "cell_type": "markdown",
   "id": "b313c4f4",
   "metadata": {
    "hidden": true
   },
   "source": [
    "## Fillout NA"
   ]
  },
  {
   "cell_type": "code",
   "execution_count": 12,
   "id": "84bffbc7",
   "metadata": {
    "ExecuteTime": {
     "end_time": "2022-06-14T12:01:57.841996Z",
     "start_time": "2022-06-14T12:01:57.801294Z"
    },
    "hidden": true
   },
   "outputs": [
    {
     "data": {
      "text/html": [
       "<div>\n",
       "<style scoped>\n",
       "    .dataframe tbody tr th:only-of-type {\n",
       "        vertical-align: middle;\n",
       "    }\n",
       "\n",
       "    .dataframe tbody tr th {\n",
       "        vertical-align: top;\n",
       "    }\n",
       "\n",
       "    .dataframe thead th {\n",
       "        text-align: right;\n",
       "    }\n",
       "</style>\n",
       "<table border=\"1\" class=\"dataframe\">\n",
       "  <thead>\n",
       "    <tr style=\"text-align: right;\">\n",
       "      <th></th>\n",
       "      <th>store</th>\n",
       "      <th>day_of_week</th>\n",
       "      <th>date</th>\n",
       "      <th>sales</th>\n",
       "      <th>customers</th>\n",
       "      <th>open</th>\n",
       "      <th>promo</th>\n",
       "      <th>state_holiday</th>\n",
       "      <th>school_holiday</th>\n",
       "      <th>store_type</th>\n",
       "      <th>assortment</th>\n",
       "      <th>competition_distance</th>\n",
       "      <th>competition_open_since_month</th>\n",
       "      <th>competition_open_since_year</th>\n",
       "      <th>promo2</th>\n",
       "      <th>promo2_since_week</th>\n",
       "      <th>promo2_since_year</th>\n",
       "      <th>promo_interval</th>\n",
       "    </tr>\n",
       "  </thead>\n",
       "  <tbody>\n",
       "    <tr>\n",
       "      <th>321988</th>\n",
       "      <td>625</td>\n",
       "      <td>3</td>\n",
       "      <td>2014-10-01</td>\n",
       "      <td>7799</td>\n",
       "      <td>674</td>\n",
       "      <td>1</td>\n",
       "      <td>1</td>\n",
       "      <td>0</td>\n",
       "      <td>0</td>\n",
       "      <td>a</td>\n",
       "      <td>a</td>\n",
       "      <td>1170.0</td>\n",
       "      <td>4.0</td>\n",
       "      <td>2011.0</td>\n",
       "      <td>1</td>\n",
       "      <td>22.0</td>\n",
       "      <td>2012.0</td>\n",
       "      <td>Feb,May,Aug,Nov</td>\n",
       "    </tr>\n",
       "  </tbody>\n",
       "</table>\n",
       "</div>"
      ],
      "text/plain": [
       "        store  day_of_week       date  sales  customers  open  promo  \\\n",
       "321988    625            3 2014-10-01   7799        674     1      1   \n",
       "\n",
       "       state_holiday  school_holiday store_type assortment  \\\n",
       "321988             0               0          a          a   \n",
       "\n",
       "        competition_distance  competition_open_since_month  \\\n",
       "321988                1170.0                           4.0   \n",
       "\n",
       "        competition_open_since_year  promo2  promo2_since_week  \\\n",
       "321988                       2011.0       1               22.0   \n",
       "\n",
       "        promo2_since_year   promo_interval  \n",
       "321988             2012.0  Feb,May,Aug,Nov  "
      ]
     },
     "execution_count": 12,
     "metadata": {},
     "output_type": "execute_result"
    }
   ],
   "source": [
    "df1.sample()"
   ]
  },
  {
   "cell_type": "code",
   "execution_count": 13,
   "id": "09126f06",
   "metadata": {
    "ExecuteTime": {
     "end_time": "2022-06-14T12:03:10.783964Z",
     "start_time": "2022-06-14T12:01:57.843738Z"
    },
    "hidden": true
   },
   "outputs": [],
   "source": [
    "# competition_distance \n",
    "df1['competition_distance'] = df1['competition_distance'].apply(lambda x: 200000.0 if math.isnan(x) else x)\n",
    "\n",
    "# competition_open_since_month\n",
    "df1['competition_open_since_month'] = df1.apply(lambda x: x['date'].month if math.isnan(x['competition_open_since_month']) else x['competition_open_since_month'], axis=1)\n",
    "\n",
    "# competition_open_since_year \n",
    "df1['competition_open_since_year'] = df1.apply(lambda x: x['date'].year if math.isnan(x['competition_open_since_year']) else x['competition_open_since_year'], axis=1)                         \n",
    "\n",
    "# promo2_since_week               \n",
    "df1['promo2_since_week'] = df1.apply(lambda x: x['date'].week if math.isnan(x['promo2_since_week']) else x['promo2_since_week'], axis=1)                \n",
    "\n",
    "# promo2_since_year              \n",
    "df1['promo2_since_year'] = df1.apply(lambda x: x['date'].year if math.isnan(x['promo2_since_year']) else x['promo2_since_year'], axis=1)\n",
    "\n",
    "# promo_interval\n",
    "month_map = {1: 'Jan', 2: 'Fev',  3: 'Mar',  4: 'Apr',  5: 'May', 6: 'Jun', 7: 'Jul', 8: 'Aug', 9: 'Sep', 10: 'Oct', 11: 'Nov', 12: 'Dec'} \n",
    "\n",
    "df1['promo_interval'].fillna(0, inplace=True)\n",
    "\n",
    "df1['month_map'] = df1['date'].dt.month.map(month_map)\n",
    "\n",
    "df1['is_promo'] = df1[['promo_interval', 'month_map']].apply(lambda x: 0 if x['promo_interval'] == 0 else 1 if x['month_map'] in x['promo_interval'].split(',') else 0, axis=1)"
   ]
  },
  {
   "cell_type": "code",
   "execution_count": 14,
   "id": "8ee7c7dd",
   "metadata": {
    "ExecuteTime": {
     "end_time": "2022-06-14T12:03:11.489213Z",
     "start_time": "2022-06-14T12:03:10.785788Z"
    },
    "hidden": true
   },
   "outputs": [
    {
     "data": {
      "text/plain": [
       "store                           0\n",
       "day_of_week                     0\n",
       "date                            0\n",
       "sales                           0\n",
       "customers                       0\n",
       "open                            0\n",
       "promo                           0\n",
       "state_holiday                   0\n",
       "school_holiday                  0\n",
       "store_type                      0\n",
       "assortment                      0\n",
       "competition_distance            0\n",
       "competition_open_since_month    0\n",
       "competition_open_since_year     0\n",
       "promo2                          0\n",
       "promo2_since_week               0\n",
       "promo2_since_year               0\n",
       "promo_interval                  0\n",
       "month_map                       0\n",
       "is_promo                        0\n",
       "dtype: int64"
      ]
     },
     "execution_count": 14,
     "metadata": {},
     "output_type": "execute_result"
    }
   ],
   "source": [
    "df1.isna().sum()"
   ]
  },
  {
   "cell_type": "markdown",
   "id": "e2c67070",
   "metadata": {
    "hidden": true
   },
   "source": [
    "## Change Types"
   ]
  },
  {
   "cell_type": "code",
   "execution_count": 15,
   "id": "984057dd",
   "metadata": {
    "ExecuteTime": {
     "end_time": "2022-06-14T12:03:11.537039Z",
     "start_time": "2022-06-14T12:03:11.490938Z"
    },
    "hidden": true
   },
   "outputs": [],
   "source": [
    "df1.competition_open_since_month = df1.competition_open_since_month.astype(int)\n",
    "df1.competition_open_since_year = df1.competition_open_since_year.astype(int)\n",
    "\n",
    "df1.promo2_since_week = df1.promo2_since_week.astype(int)\n",
    "df1.promo2_since_year = df1.promo2_since_year.astype(int)"
   ]
  },
  {
   "cell_type": "code",
   "execution_count": 16,
   "id": "5cc91a16",
   "metadata": {
    "ExecuteTime": {
     "end_time": "2022-06-14T12:03:11.543806Z",
     "start_time": "2022-06-14T12:03:11.538632Z"
    },
    "hidden": true
   },
   "outputs": [
    {
     "data": {
      "text/plain": [
       "store                                    int64\n",
       "day_of_week                              int64\n",
       "date                            datetime64[ns]\n",
       "sales                                    int64\n",
       "customers                                int64\n",
       "open                                     int64\n",
       "promo                                    int64\n",
       "state_holiday                           object\n",
       "school_holiday                           int64\n",
       "store_type                              object\n",
       "assortment                              object\n",
       "competition_distance                   float64\n",
       "competition_open_since_month             int64\n",
       "competition_open_since_year              int64\n",
       "promo2                                   int64\n",
       "promo2_since_week                        int64\n",
       "promo2_since_year                        int64\n",
       "promo_interval                          object\n",
       "month_map                               object\n",
       "is_promo                                 int64\n",
       "dtype: object"
      ]
     },
     "execution_count": 16,
     "metadata": {},
     "output_type": "execute_result"
    }
   ],
   "source": [
    "df1.dtypes"
   ]
  },
  {
   "cell_type": "markdown",
   "id": "4b1db8a8",
   "metadata": {
    "heading_collapsed": true
   },
   "source": [
    "#  Descriptive Statistical"
   ]
  },
  {
   "cell_type": "code",
   "execution_count": 17,
   "id": "22e9013a",
   "metadata": {
    "ExecuteTime": {
     "end_time": "2022-06-14T12:03:11.548244Z",
     "start_time": "2022-06-14T12:03:11.545486Z"
    },
    "hidden": true
   },
   "outputs": [],
   "source": [
    "#pra que server a descrição estatistsica dos dados?\n",
    "\n",
    "    #ganhar conhecimento de negocio.\n",
    "    #conseguir detectar alguns erros.\n",
    "\n",
    "#metricas de estatistica de primeira ordem:\n",
    "    #tedencia central.(media, moda e mediana. Serve para resumir o conjunto de dados em um unico numero)\n",
    "    #disperção.(para temos noção da \"distancia\" que os dados estão variando.)\n",
    "    "
   ]
  },
  {
   "cell_type": "code",
   "execution_count": 18,
   "id": "66ac231b",
   "metadata": {
    "ExecuteTime": {
     "end_time": "2022-06-14T12:03:11.554735Z",
     "start_time": "2022-06-14T12:03:11.549932Z"
    },
    "hidden": true
   },
   "outputs": [],
   "source": [
    "num_attrs = df1.select_dtypes(include=['int64', 'int32',  'float64'])\n",
    "cat_attrs = df1.select_dtypes(exclude=['int32', 'int64', 'float64', 'datetime64[ns]'])"
   ]
  },
  {
   "cell_type": "markdown",
   "id": "484cf79d",
   "metadata": {
    "hidden": true
   },
   "source": [
    "## Numerical Attributes"
   ]
  },
  {
   "cell_type": "code",
   "execution_count": 19,
   "id": "09f79e13",
   "metadata": {
    "ExecuteTime": {
     "end_time": "2022-06-14T12:03:14.539364Z",
     "start_time": "2022-06-14T12:03:11.557234Z"
    },
    "hidden": true
   },
   "outputs": [
    {
     "data": {
      "text/html": [
       "<div>\n",
       "<style scoped>\n",
       "    .dataframe tbody tr th:only-of-type {\n",
       "        vertical-align: middle;\n",
       "    }\n",
       "\n",
       "    .dataframe tbody tr th {\n",
       "        vertical-align: top;\n",
       "    }\n",
       "\n",
       "    .dataframe thead th {\n",
       "        text-align: right;\n",
       "    }\n",
       "</style>\n",
       "<table border=\"1\" class=\"dataframe\">\n",
       "  <thead>\n",
       "    <tr style=\"text-align: right;\">\n",
       "      <th></th>\n",
       "      <th>attrs</th>\n",
       "      <th>min</th>\n",
       "      <th>max</th>\n",
       "      <th>range</th>\n",
       "      <th>mean</th>\n",
       "      <th>median</th>\n",
       "      <th>std</th>\n",
       "      <th>skew</th>\n",
       "      <th>kurtosis</th>\n",
       "    </tr>\n",
       "  </thead>\n",
       "  <tbody>\n",
       "    <tr>\n",
       "      <th>0</th>\n",
       "      <td>store</td>\n",
       "      <td>1.0</td>\n",
       "      <td>1115.0</td>\n",
       "      <td>1114.0</td>\n",
       "      <td>558.429727</td>\n",
       "      <td>558.0</td>\n",
       "      <td>321.908493</td>\n",
       "      <td>-0.000955</td>\n",
       "      <td>-1.200524</td>\n",
       "    </tr>\n",
       "    <tr>\n",
       "      <th>1</th>\n",
       "      <td>day_of_week</td>\n",
       "      <td>1.0</td>\n",
       "      <td>7.0</td>\n",
       "      <td>6.0</td>\n",
       "      <td>3.998341</td>\n",
       "      <td>4.0</td>\n",
       "      <td>1.997390</td>\n",
       "      <td>0.001593</td>\n",
       "      <td>-1.246873</td>\n",
       "    </tr>\n",
       "    <tr>\n",
       "      <th>2</th>\n",
       "      <td>sales</td>\n",
       "      <td>0.0</td>\n",
       "      <td>41551.0</td>\n",
       "      <td>41551.0</td>\n",
       "      <td>5773.818972</td>\n",
       "      <td>5744.0</td>\n",
       "      <td>3849.924283</td>\n",
       "      <td>0.641460</td>\n",
       "      <td>1.778375</td>\n",
       "    </tr>\n",
       "    <tr>\n",
       "      <th>3</th>\n",
       "      <td>customers</td>\n",
       "      <td>0.0</td>\n",
       "      <td>7388.0</td>\n",
       "      <td>7388.0</td>\n",
       "      <td>633.145946</td>\n",
       "      <td>609.0</td>\n",
       "      <td>464.411506</td>\n",
       "      <td>1.598650</td>\n",
       "      <td>7.091773</td>\n",
       "    </tr>\n",
       "    <tr>\n",
       "      <th>4</th>\n",
       "      <td>open</td>\n",
       "      <td>0.0</td>\n",
       "      <td>1.0</td>\n",
       "      <td>1.0</td>\n",
       "      <td>0.830107</td>\n",
       "      <td>1.0</td>\n",
       "      <td>0.375539</td>\n",
       "      <td>-1.758045</td>\n",
       "      <td>1.090723</td>\n",
       "    </tr>\n",
       "    <tr>\n",
       "      <th>5</th>\n",
       "      <td>promo</td>\n",
       "      <td>0.0</td>\n",
       "      <td>1.0</td>\n",
       "      <td>1.0</td>\n",
       "      <td>0.381515</td>\n",
       "      <td>0.0</td>\n",
       "      <td>0.485758</td>\n",
       "      <td>0.487838</td>\n",
       "      <td>-1.762018</td>\n",
       "    </tr>\n",
       "    <tr>\n",
       "      <th>6</th>\n",
       "      <td>school_holiday</td>\n",
       "      <td>0.0</td>\n",
       "      <td>1.0</td>\n",
       "      <td>1.0</td>\n",
       "      <td>0.178647</td>\n",
       "      <td>0.0</td>\n",
       "      <td>0.383056</td>\n",
       "      <td>1.677842</td>\n",
       "      <td>0.815154</td>\n",
       "    </tr>\n",
       "    <tr>\n",
       "      <th>7</th>\n",
       "      <td>competition_distance</td>\n",
       "      <td>20.0</td>\n",
       "      <td>200000.0</td>\n",
       "      <td>199980.0</td>\n",
       "      <td>5935.442677</td>\n",
       "      <td>2330.0</td>\n",
       "      <td>12547.646829</td>\n",
       "      <td>10.242344</td>\n",
       "      <td>147.789712</td>\n",
       "    </tr>\n",
       "    <tr>\n",
       "      <th>8</th>\n",
       "      <td>competition_open_since_month</td>\n",
       "      <td>1.0</td>\n",
       "      <td>12.0</td>\n",
       "      <td>11.0</td>\n",
       "      <td>6.786849</td>\n",
       "      <td>7.0</td>\n",
       "      <td>3.311085</td>\n",
       "      <td>-0.042076</td>\n",
       "      <td>-1.232607</td>\n",
       "    </tr>\n",
       "    <tr>\n",
       "      <th>9</th>\n",
       "      <td>competition_open_since_year</td>\n",
       "      <td>1900.0</td>\n",
       "      <td>2015.0</td>\n",
       "      <td>115.0</td>\n",
       "      <td>2010.324840</td>\n",
       "      <td>2012.0</td>\n",
       "      <td>5.515591</td>\n",
       "      <td>-7.235657</td>\n",
       "      <td>124.071304</td>\n",
       "    </tr>\n",
       "    <tr>\n",
       "      <th>10</th>\n",
       "      <td>promo2</td>\n",
       "      <td>0.0</td>\n",
       "      <td>1.0</td>\n",
       "      <td>1.0</td>\n",
       "      <td>0.500564</td>\n",
       "      <td>1.0</td>\n",
       "      <td>0.500000</td>\n",
       "      <td>-0.002255</td>\n",
       "      <td>-1.999999</td>\n",
       "    </tr>\n",
       "    <tr>\n",
       "      <th>11</th>\n",
       "      <td>promo2_since_week</td>\n",
       "      <td>1.0</td>\n",
       "      <td>52.0</td>\n",
       "      <td>51.0</td>\n",
       "      <td>23.619033</td>\n",
       "      <td>22.0</td>\n",
       "      <td>14.310057</td>\n",
       "      <td>0.178723</td>\n",
       "      <td>-1.184046</td>\n",
       "    </tr>\n",
       "    <tr>\n",
       "      <th>12</th>\n",
       "      <td>promo2_since_year</td>\n",
       "      <td>2009.0</td>\n",
       "      <td>2015.0</td>\n",
       "      <td>6.0</td>\n",
       "      <td>2012.793297</td>\n",
       "      <td>2013.0</td>\n",
       "      <td>1.662657</td>\n",
       "      <td>-0.784436</td>\n",
       "      <td>-0.210075</td>\n",
       "    </tr>\n",
       "    <tr>\n",
       "      <th>13</th>\n",
       "      <td>is_promo</td>\n",
       "      <td>0.0</td>\n",
       "      <td>1.0</td>\n",
       "      <td>1.0</td>\n",
       "      <td>0.155231</td>\n",
       "      <td>0.0</td>\n",
       "      <td>0.362124</td>\n",
       "      <td>1.904152</td>\n",
       "      <td>1.625796</td>\n",
       "    </tr>\n",
       "  </tbody>\n",
       "</table>\n",
       "</div>"
      ],
      "text/plain": [
       "                           attrs     min       max     range         mean  \\\n",
       "0                          store     1.0    1115.0    1114.0   558.429727   \n",
       "1                    day_of_week     1.0       7.0       6.0     3.998341   \n",
       "2                          sales     0.0   41551.0   41551.0  5773.818972   \n",
       "3                      customers     0.0    7388.0    7388.0   633.145946   \n",
       "4                           open     0.0       1.0       1.0     0.830107   \n",
       "5                          promo     0.0       1.0       1.0     0.381515   \n",
       "6                 school_holiday     0.0       1.0       1.0     0.178647   \n",
       "7           competition_distance    20.0  200000.0  199980.0  5935.442677   \n",
       "8   competition_open_since_month     1.0      12.0      11.0     6.786849   \n",
       "9    competition_open_since_year  1900.0    2015.0     115.0  2010.324840   \n",
       "10                        promo2     0.0       1.0       1.0     0.500564   \n",
       "11             promo2_since_week     1.0      52.0      51.0    23.619033   \n",
       "12             promo2_since_year  2009.0    2015.0       6.0  2012.793297   \n",
       "13                      is_promo     0.0       1.0       1.0     0.155231   \n",
       "\n",
       "    median           std       skew    kurtosis  \n",
       "0    558.0    321.908493  -0.000955   -1.200524  \n",
       "1      4.0      1.997390   0.001593   -1.246873  \n",
       "2   5744.0   3849.924283   0.641460    1.778375  \n",
       "3    609.0    464.411506   1.598650    7.091773  \n",
       "4      1.0      0.375539  -1.758045    1.090723  \n",
       "5      0.0      0.485758   0.487838   -1.762018  \n",
       "6      0.0      0.383056   1.677842    0.815154  \n",
       "7   2330.0  12547.646829  10.242344  147.789712  \n",
       "8      7.0      3.311085  -0.042076   -1.232607  \n",
       "9   2012.0      5.515591  -7.235657  124.071304  \n",
       "10     1.0      0.500000  -0.002255   -1.999999  \n",
       "11    22.0     14.310057   0.178723   -1.184046  \n",
       "12  2013.0      1.662657  -0.784436   -0.210075  \n",
       "13     0.0      0.362124   1.904152    1.625796  "
      ]
     },
     "execution_count": 19,
     "metadata": {},
     "output_type": "execute_result"
    }
   ],
   "source": [
    "# central tendency - mean, media\n",
    "ct1 = pd.DataFrame(num_attrs.apply(np.mean)).T\n",
    "ct2 = pd.DataFrame(num_attrs.apply(np.median)).T\n",
    "\n",
    "# disperation - std, min, max, range, skew, kurtosis\n",
    "d1 = pd.DataFrame(num_attrs.apply(np.std)).T\n",
    "d2 = pd.DataFrame(num_attrs.apply(min)).T\n",
    "d3 = pd.DataFrame(num_attrs.apply(max)).T\n",
    "d4 = pd.DataFrame(num_attrs.apply(lambda x: x.max() - x.min())).T\n",
    "d5 = pd.DataFrame(num_attrs.apply(lambda x: x.skew())).T\n",
    "d6 = pd.DataFrame(num_attrs.apply(lambda x: x.kurtosis())).T\n",
    "\n",
    "# concatenate\n",
    "m = pd.concat([d2,d3, d4, ct1, ct2, d1, d5, d6]).T.reset_index()\n",
    "m.columns = ['attrs', 'min', 'max', 'range', 'mean', 'median', 'std', 'skew', 'kurtosis']\n",
    "m"
   ]
  },
  {
   "cell_type": "code",
   "execution_count": 20,
   "id": "341d55a8",
   "metadata": {
    "ExecuteTime": {
     "end_time": "2022-06-14T12:03:18.485851Z",
     "start_time": "2022-06-14T12:03:14.541077Z"
    },
    "hidden": true
   },
   "outputs": [
    {
     "data": {
      "text/plain": [
       "<AxesSubplot:xlabel='competition_distance', ylabel='Density'>"
      ]
     },
     "execution_count": 20,
     "metadata": {},
     "output_type": "execute_result"
    },
    {
     "data": {
      "image/png": "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\n",
      "text/plain": [
       "<Figure size 432x288 with 1 Axes>"
      ]
     },
     "metadata": {
      "needs_background": "light"
     },
     "output_type": "display_data"
    }
   ],
   "source": [
    "sns.distplot(df1['competition_distance'])"
   ]
  },
  {
   "cell_type": "markdown",
   "id": "ec049b4e",
   "metadata": {
    "hidden": true
   },
   "source": [
    "## Numerical Attributes"
   ]
  },
  {
   "cell_type": "code",
   "execution_count": 21,
   "id": "e48aa9c1",
   "metadata": {
    "ExecuteTime": {
     "end_time": "2022-06-14T12:03:18.674900Z",
     "start_time": "2022-06-14T12:03:18.487481Z"
    },
    "hidden": true
   },
   "outputs": [
    {
     "data": {
      "text/plain": [
       "state_holiday      4\n",
       "store_type         4\n",
       "assortment         3\n",
       "promo_interval     4\n",
       "month_map         12\n",
       "dtype: int64"
      ]
     },
     "execution_count": 21,
     "metadata": {},
     "output_type": "execute_result"
    }
   ],
   "source": [
    "cat_attrs.apply(lambda x: x.unique().shape[0])"
   ]
  },
  {
   "cell_type": "code",
   "execution_count": 22,
   "id": "4e0e6303",
   "metadata": {
    "ExecuteTime": {
     "end_time": "2022-06-14T12:03:19.214427Z",
     "start_time": "2022-06-14T12:03:18.677378Z"
    },
    "hidden": true
   },
   "outputs": [
    {
     "data": {
      "text/plain": [
       "<AxesSubplot:xlabel='assortment', ylabel='sales'>"
      ]
     },
     "execution_count": 22,
     "metadata": {},
     "output_type": "execute_result"
    },
    {
     "data": {
      "image/png": "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\n",
      "text/plain": [
       "<Figure size 1080x576 with 3 Axes>"
      ]
     },
     "metadata": {
      "needs_background": "light"
     },
     "output_type": "display_data"
    }
   ],
   "source": [
    "plt.figure(figsize=(15, 8))\n",
    "\n",
    "aux1 = df1[(df1['state_holiday'] != '0') & (df1['sales'] > 0)]\n",
    "\n",
    "plt.subplot(1, 3, 1)\n",
    "sns.boxplot(x='state_holiday', y='sales', data=aux1)\n",
    "\n",
    "plt.subplot(1, 3, 2)\n",
    "sns.boxplot(x='store_type', y='sales', data=aux1)\n",
    "\n",
    "plt.subplot(1, 3, 3)\n",
    "sns.boxplot(x='assortment', y='sales', data=aux1)"
   ]
  },
  {
   "cell_type": "markdown",
   "id": "d0616954",
   "metadata": {},
   "source": [
    "# FEATURE ENGINEERING"
   ]
  },
  {
   "cell_type": "code",
   "execution_count": 23,
   "id": "1adc3e5d",
   "metadata": {
    "ExecuteTime": {
     "end_time": "2022-06-14T12:03:19.221648Z",
     "start_time": "2022-06-14T12:03:19.217711Z"
    }
   },
   "outputs": [],
   "source": [
    "#aqui iremos extrair os recursos para a preparação do modelo de machine learning/analise."
   ]
  },
  {
   "cell_type": "code",
   "execution_count": 24,
   "id": "9cda0bcc",
   "metadata": {
    "ExecuteTime": {
     "end_time": "2022-06-14T12:03:19.310932Z",
     "start_time": "2022-06-14T12:03:19.224141Z"
    }
   },
   "outputs": [],
   "source": [
    "df2 = df1.copy()"
   ]
  },
  {
   "cell_type": "markdown",
   "id": "1c839971",
   "metadata": {
    "heading_collapsed": true,
    "lang": "en"
   },
   "source": [
    "## Mind map of hypotheses"
   ]
  },
  {
   "cell_type": "code",
   "execution_count": 25,
   "id": "8e0218e3",
   "metadata": {
    "ExecuteTime": {
     "end_time": "2022-06-14T12:03:19.378512Z",
     "start_time": "2022-06-14T12:03:19.312726Z"
    },
    "hidden": true,
    "hide_input": true
   },
   "outputs": [
    {
     "data": {
      "image/png": "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\n",
      "text/plain": [
       "<IPython.core.display.Image object>"
      ]
     },
     "execution_count": 25,
     "metadata": {},
     "output_type": "execute_result"
    }
   ],
   "source": [
    "Image('img/Daily_Store_Sales.png')"
   ]
  },
  {
   "cell_type": "markdown",
   "id": "fcbe4680",
   "metadata": {},
   "source": [
    "## Criacao das Hipoteses"
   ]
  },
  {
   "cell_type": "markdown",
   "id": "38de4610",
   "metadata": {
    "heading_collapsed": true
   },
   "source": [
    "### Hipoteses Loja"
   ]
  },
  {
   "cell_type": "markdown",
   "id": "f9fab3ad",
   "metadata": {
    "hidden": true
   },
   "source": [
    "1. Lojas com número maior de funcionários deveriam vender mais.\n",
    "2. Lojas com maior capacidade de estoque deveriam vender mais.\n",
    "3. Lojas com maior porte deveriam vender mais.\n",
    "4. Lojas com maior sortimentos deveriam vender mais.\n",
    "5. Lojas com competidores mais próximos deveriam vender menos.\n",
    "6. Lojas com competidores à mais tempo deveriam vendem mais."
   ]
  },
  {
   "cell_type": "markdown",
   "id": "471b6952",
   "metadata": {
    "heading_collapsed": true
   },
   "source": [
    "### Hipoteses Produto"
   ]
  },
  {
   "cell_type": "markdown",
   "id": "9ca8b621",
   "metadata": {
    "hidden": true
   },
   "source": [
    "1. Lojas que investem mais em Marketing deveriam vender mais.\n",
    "2. Lojas com maior exposição de produto deveriam vender mais.\n",
    "3. Lojas com produtos com preço menor deveriam vender mais.\n",
    "5. Lojas com promoções mais agressivas ( descontos maiores ), deveriam vender mais.\n",
    "6. Lojas com promoções ativas por mais tempo deveriam vender mais.\n",
    "7. Lojas com mais dias de promoção deveriam vender mais.\n",
    "8. Lojas com mais promoções consecutivas deveriam vender mais."
   ]
  },
  {
   "cell_type": "markdown",
   "id": "3c6d2baf",
   "metadata": {
    "heading_collapsed": true
   },
   "source": [
    "### Hipoteses Tempo"
   ]
  },
  {
   "cell_type": "markdown",
   "id": "7203e1d5",
   "metadata": {
    "hidden": true
   },
   "source": [
    "1. Lojas abertas durante o feriado de Natal deveriam vender mais.\n",
    "2. Lojas deveriam vender mais ao longo dos anos.\n",
    "3. Lojas deveriam vender mais no segundo semestre do ano.\n",
    "4. Lojas deveriam vender mais depois do dia 10 de cada mês.\n",
    "5. Lojas deveriam vender menos aos finais de semana.\n",
    "6. Lojas deveriam vender menos durante os feriados escolares."
   ]
  },
  {
   "cell_type": "markdown",
   "id": "ba80e60b",
   "metadata": {},
   "source": [
    "### Lista Final de Hipóteses"
   ]
  },
  {
   "cell_type": "markdown",
   "id": "8332354d",
   "metadata": {},
   "source": [
    "1. Lojas com maior sortimentos deveriam vender mais.\n",
    "2. Lojas com competidores mais próximos deveriam vender menos.\n",
    "3. Lojas com competidores à mais tempo deveriam vendem mais.\n",
    "4. Lojas com promoções ativas por mais tempo deveriam vender mais.\n",
    "5. Lojas com mais dias de promoção deveriam vender mais.\n",
    "7. Lojas com mais promoções consecutivas deveriam vender mais.\n",
    "8. Lojas abertas durante o feriado de Natal deveriam vender mais.\n",
    "9. Lojas deveriam vender mais ao longo dos anos.\n",
    "10. Lojas deveriam vender mais no segundo semestre do ano.\n",
    "11. Lojas deveriam vender mais depois do dia 10 de cada mês.\n",
    "12. Lojas deveriam vender menos aos finais de semana.\n",
    "13. Lojas deveriam vender menos durante os feriados escolares."
   ]
  },
  {
   "cell_type": "markdown",
   "id": "8aafe466",
   "metadata": {
    "heading_collapsed": true
   },
   "source": [
    "## Feature Engineering "
   ]
  },
  {
   "cell_type": "code",
   "execution_count": 26,
   "id": "8539b455",
   "metadata": {
    "ExecuteTime": {
     "end_time": "2022-06-14T12:04:07.039166Z",
     "start_time": "2022-06-14T12:03:19.381584Z"
    },
    "hidden": true
   },
   "outputs": [],
   "source": [
    "# year\n",
    "df2['year'] = df2['date'].dt.year\n",
    "\n",
    "# month\n",
    "df2['month'] = df2['date'].dt.month\n",
    "\n",
    "# day\n",
    "df2['day'] = df2['date'].dt.day\n",
    "\n",
    "# week of year\n",
    "df2['week_of_year'] = df2['date'].dt.weekofyear\n",
    "\n",
    "# year week\n",
    "df2['year_week'] = df2['date'].dt.strftime( '%Y-%W' )\n",
    "\n",
    "# competition since\n",
    "df2['competition_since'] = df2.apply( lambda x: datetime.datetime( year=x['competition_open_since_year'], month=x['competition_open_since_month'], day=1), axis=1)\n",
    "df2['competition_time_mouth'] = ( ( df2['date'] - df2['competition_since'] ) / 30 ).apply( lambda x: x.days ).astype( int )\n",
    "\n",
    "# promo since\n",
    "df2['promo_since'] = df2['promo2_since_year'].astype( str ) + '-' + df2['promo2_since_week'].astype( str )\n",
    "df2['promo_since'] = df2['promo_since'].apply( lambda x: datetime.datetime.strptime(x + '-1', '%Y-%W-%w') - datetime.timedelta( days=7 ) )\n",
    "df2['promo_time_week'] = ( ( df2['date'] - df2['promo_since'] ) / 7 ).apply( lambda x: x.days).astype( int )\n",
    "\n",
    "# assortment\n",
    "df2['assortment'] = df2['assortment'].apply(lambda x: 'basic' if x == 'a' else 'extra' if x == 'b' else 'extended')\n",
    "\n",
    "# state holiday\n",
    "df2['state_holiday'] = df2['state_holiday'].apply( lambda x: 'public_holiday' if x == 'a' else 'easter_holiday' if x == 'b' else 'christimas' if x == 'c' else 'regular_day' )\n",
    "\n"
   ]
  },
  {
   "cell_type": "code",
   "execution_count": 27,
   "id": "f57a317e",
   "metadata": {
    "ExecuteTime": {
     "end_time": "2022-06-14T12:04:07.055580Z",
     "start_time": "2022-06-14T12:04:07.041044Z"
    },
    "hidden": true
   },
   "outputs": [
    {
     "data": {
      "text/html": [
       "<div>\n",
       "<style scoped>\n",
       "    .dataframe tbody tr th:only-of-type {\n",
       "        vertical-align: middle;\n",
       "    }\n",
       "\n",
       "    .dataframe tbody tr th {\n",
       "        vertical-align: top;\n",
       "    }\n",
       "\n",
       "    .dataframe thead th {\n",
       "        text-align: right;\n",
       "    }\n",
       "</style>\n",
       "<table border=\"1\" class=\"dataframe\">\n",
       "  <thead>\n",
       "    <tr style=\"text-align: right;\">\n",
       "      <th></th>\n",
       "      <th>0</th>\n",
       "      <th>1</th>\n",
       "      <th>2</th>\n",
       "      <th>3</th>\n",
       "      <th>4</th>\n",
       "    </tr>\n",
       "  </thead>\n",
       "  <tbody>\n",
       "    <tr>\n",
       "      <th>store</th>\n",
       "      <td>1</td>\n",
       "      <td>2</td>\n",
       "      <td>3</td>\n",
       "      <td>4</td>\n",
       "      <td>5</td>\n",
       "    </tr>\n",
       "    <tr>\n",
       "      <th>day_of_week</th>\n",
       "      <td>5</td>\n",
       "      <td>5</td>\n",
       "      <td>5</td>\n",
       "      <td>5</td>\n",
       "      <td>5</td>\n",
       "    </tr>\n",
       "    <tr>\n",
       "      <th>date</th>\n",
       "      <td>2015-07-31 00:00:00</td>\n",
       "      <td>2015-07-31 00:00:00</td>\n",
       "      <td>2015-07-31 00:00:00</td>\n",
       "      <td>2015-07-31 00:00:00</td>\n",
       "      <td>2015-07-31 00:00:00</td>\n",
       "    </tr>\n",
       "    <tr>\n",
       "      <th>sales</th>\n",
       "      <td>5263</td>\n",
       "      <td>6064</td>\n",
       "      <td>8314</td>\n",
       "      <td>13995</td>\n",
       "      <td>4822</td>\n",
       "    </tr>\n",
       "    <tr>\n",
       "      <th>customers</th>\n",
       "      <td>555</td>\n",
       "      <td>625</td>\n",
       "      <td>821</td>\n",
       "      <td>1498</td>\n",
       "      <td>559</td>\n",
       "    </tr>\n",
       "    <tr>\n",
       "      <th>open</th>\n",
       "      <td>1</td>\n",
       "      <td>1</td>\n",
       "      <td>1</td>\n",
       "      <td>1</td>\n",
       "      <td>1</td>\n",
       "    </tr>\n",
       "    <tr>\n",
       "      <th>promo</th>\n",
       "      <td>1</td>\n",
       "      <td>1</td>\n",
       "      <td>1</td>\n",
       "      <td>1</td>\n",
       "      <td>1</td>\n",
       "    </tr>\n",
       "    <tr>\n",
       "      <th>state_holiday</th>\n",
       "      <td>regular_day</td>\n",
       "      <td>regular_day</td>\n",
       "      <td>regular_day</td>\n",
       "      <td>regular_day</td>\n",
       "      <td>regular_day</td>\n",
       "    </tr>\n",
       "    <tr>\n",
       "      <th>school_holiday</th>\n",
       "      <td>1</td>\n",
       "      <td>1</td>\n",
       "      <td>1</td>\n",
       "      <td>1</td>\n",
       "      <td>1</td>\n",
       "    </tr>\n",
       "    <tr>\n",
       "      <th>store_type</th>\n",
       "      <td>c</td>\n",
       "      <td>a</td>\n",
       "      <td>a</td>\n",
       "      <td>c</td>\n",
       "      <td>a</td>\n",
       "    </tr>\n",
       "    <tr>\n",
       "      <th>assortment</th>\n",
       "      <td>basic</td>\n",
       "      <td>basic</td>\n",
       "      <td>basic</td>\n",
       "      <td>extended</td>\n",
       "      <td>basic</td>\n",
       "    </tr>\n",
       "    <tr>\n",
       "      <th>competition_distance</th>\n",
       "      <td>1270.0</td>\n",
       "      <td>570.0</td>\n",
       "      <td>14130.0</td>\n",
       "      <td>620.0</td>\n",
       "      <td>29910.0</td>\n",
       "    </tr>\n",
       "    <tr>\n",
       "      <th>competition_open_since_month</th>\n",
       "      <td>9</td>\n",
       "      <td>11</td>\n",
       "      <td>12</td>\n",
       "      <td>9</td>\n",
       "      <td>4</td>\n",
       "    </tr>\n",
       "    <tr>\n",
       "      <th>competition_open_since_year</th>\n",
       "      <td>2008</td>\n",
       "      <td>2007</td>\n",
       "      <td>2006</td>\n",
       "      <td>2009</td>\n",
       "      <td>2015</td>\n",
       "    </tr>\n",
       "    <tr>\n",
       "      <th>promo2</th>\n",
       "      <td>0</td>\n",
       "      <td>1</td>\n",
       "      <td>1</td>\n",
       "      <td>0</td>\n",
       "      <td>0</td>\n",
       "    </tr>\n",
       "    <tr>\n",
       "      <th>promo2_since_week</th>\n",
       "      <td>31</td>\n",
       "      <td>13</td>\n",
       "      <td>14</td>\n",
       "      <td>31</td>\n",
       "      <td>31</td>\n",
       "    </tr>\n",
       "    <tr>\n",
       "      <th>promo2_since_year</th>\n",
       "      <td>2015</td>\n",
       "      <td>2010</td>\n",
       "      <td>2011</td>\n",
       "      <td>2015</td>\n",
       "      <td>2015</td>\n",
       "    </tr>\n",
       "    <tr>\n",
       "      <th>promo_interval</th>\n",
       "      <td>0</td>\n",
       "      <td>Jan,Apr,Jul,Oct</td>\n",
       "      <td>Jan,Apr,Jul,Oct</td>\n",
       "      <td>0</td>\n",
       "      <td>0</td>\n",
       "    </tr>\n",
       "    <tr>\n",
       "      <th>month_map</th>\n",
       "      <td>Jul</td>\n",
       "      <td>Jul</td>\n",
       "      <td>Jul</td>\n",
       "      <td>Jul</td>\n",
       "      <td>Jul</td>\n",
       "    </tr>\n",
       "    <tr>\n",
       "      <th>is_promo</th>\n",
       "      <td>0</td>\n",
       "      <td>1</td>\n",
       "      <td>1</td>\n",
       "      <td>0</td>\n",
       "      <td>0</td>\n",
       "    </tr>\n",
       "    <tr>\n",
       "      <th>year</th>\n",
       "      <td>2015</td>\n",
       "      <td>2015</td>\n",
       "      <td>2015</td>\n",
       "      <td>2015</td>\n",
       "      <td>2015</td>\n",
       "    </tr>\n",
       "    <tr>\n",
       "      <th>month</th>\n",
       "      <td>7</td>\n",
       "      <td>7</td>\n",
       "      <td>7</td>\n",
       "      <td>7</td>\n",
       "      <td>7</td>\n",
       "    </tr>\n",
       "    <tr>\n",
       "      <th>day</th>\n",
       "      <td>31</td>\n",
       "      <td>31</td>\n",
       "      <td>31</td>\n",
       "      <td>31</td>\n",
       "      <td>31</td>\n",
       "    </tr>\n",
       "    <tr>\n",
       "      <th>week_of_year</th>\n",
       "      <td>31</td>\n",
       "      <td>31</td>\n",
       "      <td>31</td>\n",
       "      <td>31</td>\n",
       "      <td>31</td>\n",
       "    </tr>\n",
       "    <tr>\n",
       "      <th>year_week</th>\n",
       "      <td>2015-30</td>\n",
       "      <td>2015-30</td>\n",
       "      <td>2015-30</td>\n",
       "      <td>2015-30</td>\n",
       "      <td>2015-30</td>\n",
       "    </tr>\n",
       "    <tr>\n",
       "      <th>competition_since</th>\n",
       "      <td>2008-09-01 00:00:00</td>\n",
       "      <td>2007-11-01 00:00:00</td>\n",
       "      <td>2006-12-01 00:00:00</td>\n",
       "      <td>2009-09-01 00:00:00</td>\n",
       "      <td>2015-04-01 00:00:00</td>\n",
       "    </tr>\n",
       "    <tr>\n",
       "      <th>competition_time_mouth</th>\n",
       "      <td>84</td>\n",
       "      <td>94</td>\n",
       "      <td>105</td>\n",
       "      <td>71</td>\n",
       "      <td>4</td>\n",
       "    </tr>\n",
       "    <tr>\n",
       "      <th>promo_since</th>\n",
       "      <td>2015-07-27 00:00:00</td>\n",
       "      <td>2010-03-22 00:00:00</td>\n",
       "      <td>2011-03-28 00:00:00</td>\n",
       "      <td>2015-07-27 00:00:00</td>\n",
       "      <td>2015-07-27 00:00:00</td>\n",
       "    </tr>\n",
       "    <tr>\n",
       "      <th>promo_time_week</th>\n",
       "      <td>0</td>\n",
       "      <td>279</td>\n",
       "      <td>226</td>\n",
       "      <td>0</td>\n",
       "      <td>0</td>\n",
       "    </tr>\n",
       "  </tbody>\n",
       "</table>\n",
       "</div>"
      ],
      "text/plain": [
       "                                                0                    1  \\\n",
       "store                                           1                    2   \n",
       "day_of_week                                     5                    5   \n",
       "date                          2015-07-31 00:00:00  2015-07-31 00:00:00   \n",
       "sales                                        5263                 6064   \n",
       "customers                                     555                  625   \n",
       "open                                            1                    1   \n",
       "promo                                           1                    1   \n",
       "state_holiday                         regular_day          regular_day   \n",
       "school_holiday                                  1                    1   \n",
       "store_type                                      c                    a   \n",
       "assortment                                  basic                basic   \n",
       "competition_distance                       1270.0                570.0   \n",
       "competition_open_since_month                    9                   11   \n",
       "competition_open_since_year                  2008                 2007   \n",
       "promo2                                          0                    1   \n",
       "promo2_since_week                              31                   13   \n",
       "promo2_since_year                            2015                 2010   \n",
       "promo_interval                                  0      Jan,Apr,Jul,Oct   \n",
       "month_map                                     Jul                  Jul   \n",
       "is_promo                                        0                    1   \n",
       "year                                         2015                 2015   \n",
       "month                                           7                    7   \n",
       "day                                            31                   31   \n",
       "week_of_year                                   31                   31   \n",
       "year_week                                 2015-30              2015-30   \n",
       "competition_since             2008-09-01 00:00:00  2007-11-01 00:00:00   \n",
       "competition_time_mouth                         84                   94   \n",
       "promo_since                   2015-07-27 00:00:00  2010-03-22 00:00:00   \n",
       "promo_time_week                                 0                  279   \n",
       "\n",
       "                                                2                    3  \\\n",
       "store                                           3                    4   \n",
       "day_of_week                                     5                    5   \n",
       "date                          2015-07-31 00:00:00  2015-07-31 00:00:00   \n",
       "sales                                        8314                13995   \n",
       "customers                                     821                 1498   \n",
       "open                                            1                    1   \n",
       "promo                                           1                    1   \n",
       "state_holiday                         regular_day          regular_day   \n",
       "school_holiday                                  1                    1   \n",
       "store_type                                      a                    c   \n",
       "assortment                                  basic             extended   \n",
       "competition_distance                      14130.0                620.0   \n",
       "competition_open_since_month                   12                    9   \n",
       "competition_open_since_year                  2006                 2009   \n",
       "promo2                                          1                    0   \n",
       "promo2_since_week                              14                   31   \n",
       "promo2_since_year                            2011                 2015   \n",
       "promo_interval                    Jan,Apr,Jul,Oct                    0   \n",
       "month_map                                     Jul                  Jul   \n",
       "is_promo                                        1                    0   \n",
       "year                                         2015                 2015   \n",
       "month                                           7                    7   \n",
       "day                                            31                   31   \n",
       "week_of_year                                   31                   31   \n",
       "year_week                                 2015-30              2015-30   \n",
       "competition_since             2006-12-01 00:00:00  2009-09-01 00:00:00   \n",
       "competition_time_mouth                        105                   71   \n",
       "promo_since                   2011-03-28 00:00:00  2015-07-27 00:00:00   \n",
       "promo_time_week                               226                    0   \n",
       "\n",
       "                                                4  \n",
       "store                                           5  \n",
       "day_of_week                                     5  \n",
       "date                          2015-07-31 00:00:00  \n",
       "sales                                        4822  \n",
       "customers                                     559  \n",
       "open                                            1  \n",
       "promo                                           1  \n",
       "state_holiday                         regular_day  \n",
       "school_holiday                                  1  \n",
       "store_type                                      a  \n",
       "assortment                                  basic  \n",
       "competition_distance                      29910.0  \n",
       "competition_open_since_month                    4  \n",
       "competition_open_since_year                  2015  \n",
       "promo2                                          0  \n",
       "promo2_since_week                              31  \n",
       "promo2_since_year                            2015  \n",
       "promo_interval                                  0  \n",
       "month_map                                     Jul  \n",
       "is_promo                                        0  \n",
       "year                                         2015  \n",
       "month                                           7  \n",
       "day                                            31  \n",
       "week_of_year                                   31  \n",
       "year_week                                 2015-30  \n",
       "competition_since             2015-04-01 00:00:00  \n",
       "competition_time_mouth                          4  \n",
       "promo_since                   2015-07-27 00:00:00  \n",
       "promo_time_week                                 0  "
      ]
     },
     "execution_count": 27,
     "metadata": {},
     "output_type": "execute_result"
    }
   ],
   "source": [
    "df2.head().T"
   ]
  },
  {
   "cell_type": "markdown",
   "id": "419c33d7",
   "metadata": {
    "heading_collapsed": true
   },
   "source": [
    "# VARIABLE FILTERING"
   ]
  },
  {
   "cell_type": "code",
   "execution_count": 28,
   "id": "acdbb6d5",
   "metadata": {
    "ExecuteTime": {
     "end_time": "2022-06-14T12:04:07.435982Z",
     "start_time": "2022-06-14T12:04:07.060496Z"
    },
    "hidden": true
   },
   "outputs": [],
   "source": [
    "df3 = df2.copy()"
   ]
  },
  {
   "cell_type": "code",
   "execution_count": 29,
   "id": "51213768",
   "metadata": {
    "ExecuteTime": {
     "end_time": "2022-06-14T12:04:07.454985Z",
     "start_time": "2022-06-14T12:04:07.437817Z"
    },
    "hidden": true
   },
   "outputs": [
    {
     "data": {
      "text/html": [
       "<div>\n",
       "<style scoped>\n",
       "    .dataframe tbody tr th:only-of-type {\n",
       "        vertical-align: middle;\n",
       "    }\n",
       "\n",
       "    .dataframe tbody tr th {\n",
       "        vertical-align: top;\n",
       "    }\n",
       "\n",
       "    .dataframe thead th {\n",
       "        text-align: right;\n",
       "    }\n",
       "</style>\n",
       "<table border=\"1\" class=\"dataframe\">\n",
       "  <thead>\n",
       "    <tr style=\"text-align: right;\">\n",
       "      <th></th>\n",
       "      <th>store</th>\n",
       "      <th>day_of_week</th>\n",
       "      <th>date</th>\n",
       "      <th>sales</th>\n",
       "      <th>customers</th>\n",
       "      <th>open</th>\n",
       "      <th>promo</th>\n",
       "      <th>state_holiday</th>\n",
       "      <th>school_holiday</th>\n",
       "      <th>store_type</th>\n",
       "      <th>...</th>\n",
       "      <th>is_promo</th>\n",
       "      <th>year</th>\n",
       "      <th>month</th>\n",
       "      <th>day</th>\n",
       "      <th>week_of_year</th>\n",
       "      <th>year_week</th>\n",
       "      <th>competition_since</th>\n",
       "      <th>competition_time_mouth</th>\n",
       "      <th>promo_since</th>\n",
       "      <th>promo_time_week</th>\n",
       "    </tr>\n",
       "  </thead>\n",
       "  <tbody>\n",
       "    <tr>\n",
       "      <th>0</th>\n",
       "      <td>1</td>\n",
       "      <td>5</td>\n",
       "      <td>2015-07-31</td>\n",
       "      <td>5263</td>\n",
       "      <td>555</td>\n",
       "      <td>1</td>\n",
       "      <td>1</td>\n",
       "      <td>regular_day</td>\n",
       "      <td>1</td>\n",
       "      <td>c</td>\n",
       "      <td>...</td>\n",
       "      <td>0</td>\n",
       "      <td>2015</td>\n",
       "      <td>7</td>\n",
       "      <td>31</td>\n",
       "      <td>31</td>\n",
       "      <td>2015-30</td>\n",
       "      <td>2008-09-01</td>\n",
       "      <td>84</td>\n",
       "      <td>2015-07-27</td>\n",
       "      <td>0</td>\n",
       "    </tr>\n",
       "    <tr>\n",
       "      <th>1</th>\n",
       "      <td>2</td>\n",
       "      <td>5</td>\n",
       "      <td>2015-07-31</td>\n",
       "      <td>6064</td>\n",
       "      <td>625</td>\n",
       "      <td>1</td>\n",
       "      <td>1</td>\n",
       "      <td>regular_day</td>\n",
       "      <td>1</td>\n",
       "      <td>a</td>\n",
       "      <td>...</td>\n",
       "      <td>1</td>\n",
       "      <td>2015</td>\n",
       "      <td>7</td>\n",
       "      <td>31</td>\n",
       "      <td>31</td>\n",
       "      <td>2015-30</td>\n",
       "      <td>2007-11-01</td>\n",
       "      <td>94</td>\n",
       "      <td>2010-03-22</td>\n",
       "      <td>279</td>\n",
       "    </tr>\n",
       "    <tr>\n",
       "      <th>2</th>\n",
       "      <td>3</td>\n",
       "      <td>5</td>\n",
       "      <td>2015-07-31</td>\n",
       "      <td>8314</td>\n",
       "      <td>821</td>\n",
       "      <td>1</td>\n",
       "      <td>1</td>\n",
       "      <td>regular_day</td>\n",
       "      <td>1</td>\n",
       "      <td>a</td>\n",
       "      <td>...</td>\n",
       "      <td>1</td>\n",
       "      <td>2015</td>\n",
       "      <td>7</td>\n",
       "      <td>31</td>\n",
       "      <td>31</td>\n",
       "      <td>2015-30</td>\n",
       "      <td>2006-12-01</td>\n",
       "      <td>105</td>\n",
       "      <td>2011-03-28</td>\n",
       "      <td>226</td>\n",
       "    </tr>\n",
       "    <tr>\n",
       "      <th>3</th>\n",
       "      <td>4</td>\n",
       "      <td>5</td>\n",
       "      <td>2015-07-31</td>\n",
       "      <td>13995</td>\n",
       "      <td>1498</td>\n",
       "      <td>1</td>\n",
       "      <td>1</td>\n",
       "      <td>regular_day</td>\n",
       "      <td>1</td>\n",
       "      <td>c</td>\n",
       "      <td>...</td>\n",
       "      <td>0</td>\n",
       "      <td>2015</td>\n",
       "      <td>7</td>\n",
       "      <td>31</td>\n",
       "      <td>31</td>\n",
       "      <td>2015-30</td>\n",
       "      <td>2009-09-01</td>\n",
       "      <td>71</td>\n",
       "      <td>2015-07-27</td>\n",
       "      <td>0</td>\n",
       "    </tr>\n",
       "    <tr>\n",
       "      <th>4</th>\n",
       "      <td>5</td>\n",
       "      <td>5</td>\n",
       "      <td>2015-07-31</td>\n",
       "      <td>4822</td>\n",
       "      <td>559</td>\n",
       "      <td>1</td>\n",
       "      <td>1</td>\n",
       "      <td>regular_day</td>\n",
       "      <td>1</td>\n",
       "      <td>a</td>\n",
       "      <td>...</td>\n",
       "      <td>0</td>\n",
       "      <td>2015</td>\n",
       "      <td>7</td>\n",
       "      <td>31</td>\n",
       "      <td>31</td>\n",
       "      <td>2015-30</td>\n",
       "      <td>2015-04-01</td>\n",
       "      <td>4</td>\n",
       "      <td>2015-07-27</td>\n",
       "      <td>0</td>\n",
       "    </tr>\n",
       "  </tbody>\n",
       "</table>\n",
       "<p>5 rows × 29 columns</p>\n",
       "</div>"
      ],
      "text/plain": [
       "   store  day_of_week       date  sales  customers  open  promo state_holiday  \\\n",
       "0      1            5 2015-07-31   5263        555     1      1   regular_day   \n",
       "1      2            5 2015-07-31   6064        625     1      1   regular_day   \n",
       "2      3            5 2015-07-31   8314        821     1      1   regular_day   \n",
       "3      4            5 2015-07-31  13995       1498     1      1   regular_day   \n",
       "4      5            5 2015-07-31   4822        559     1      1   regular_day   \n",
       "\n",
       "   school_holiday store_type  ... is_promo  year  month  day  week_of_year  \\\n",
       "0               1          c  ...        0  2015      7   31            31   \n",
       "1               1          a  ...        1  2015      7   31            31   \n",
       "2               1          a  ...        1  2015      7   31            31   \n",
       "3               1          c  ...        0  2015      7   31            31   \n",
       "4               1          a  ...        0  2015      7   31            31   \n",
       "\n",
       "   year_week  competition_since competition_time_mouth promo_since  \\\n",
       "0    2015-30         2008-09-01                     84  2015-07-27   \n",
       "1    2015-30         2007-11-01                     94  2010-03-22   \n",
       "2    2015-30         2006-12-01                    105  2011-03-28   \n",
       "3    2015-30         2009-09-01                     71  2015-07-27   \n",
       "4    2015-30         2015-04-01                      4  2015-07-27   \n",
       "\n",
       "   promo_time_week  \n",
       "0                0  \n",
       "1              279  \n",
       "2              226  \n",
       "3                0  \n",
       "4                0  \n",
       "\n",
       "[5 rows x 29 columns]"
      ]
     },
     "execution_count": 29,
     "metadata": {},
     "output_type": "execute_result"
    }
   ],
   "source": [
    "df3.head()"
   ]
  },
  {
   "cell_type": "markdown",
   "id": "c52b37d9",
   "metadata": {
    "hidden": true
   },
   "source": [
    "## Line Filtering"
   ]
  },
  {
   "cell_type": "code",
   "execution_count": 30,
   "id": "e31c1524",
   "metadata": {
    "ExecuteTime": {
     "end_time": "2022-06-14T12:04:07.565701Z",
     "start_time": "2022-06-14T12:04:07.456555Z"
    },
    "hidden": true
   },
   "outputs": [],
   "source": [
    "df3 = df3[(df3['open'] != 0) & (df3['sales'] > 0)]"
   ]
  },
  {
   "cell_type": "markdown",
   "id": "a1725500",
   "metadata": {
    "hidden": true
   },
   "source": [
    "## Selection of columns"
   ]
  },
  {
   "cell_type": "code",
   "execution_count": 31,
   "id": "893f8b7e",
   "metadata": {
    "ExecuteTime": {
     "end_time": "2022-06-14T12:04:07.655133Z",
     "start_time": "2022-06-14T12:04:07.567437Z"
    },
    "hidden": true
   },
   "outputs": [],
   "source": [
    "cols_drop = ['customers', 'open', 'promo_interval', 'month_map']\n",
    "df3 = df3.drop( cols_drop, axis=1 )"
   ]
  },
  {
   "cell_type": "code",
   "execution_count": 32,
   "id": "06a61c2b",
   "metadata": {
    "ExecuteTime": {
     "end_time": "2022-06-14T12:04:07.662013Z",
     "start_time": "2022-06-14T12:04:07.657200Z"
    },
    "hidden": true
   },
   "outputs": [
    {
     "data": {
      "text/plain": [
       "Index(['store', 'day_of_week', 'date', 'sales', 'promo', 'state_holiday',\n",
       "       'school_holiday', 'store_type', 'assortment', 'competition_distance',\n",
       "       'competition_open_since_month', 'competition_open_since_year', 'promo2',\n",
       "       'promo2_since_week', 'promo2_since_year', 'is_promo', 'year', 'month',\n",
       "       'day', 'week_of_year', 'year_week', 'competition_since',\n",
       "       'competition_time_mouth', 'promo_since', 'promo_time_week'],\n",
       "      dtype='object')"
      ]
     },
     "execution_count": 32,
     "metadata": {},
     "output_type": "execute_result"
    }
   ],
   "source": [
    "df3.columns"
   ]
  },
  {
   "cell_type": "markdown",
   "id": "d9a5cb10",
   "metadata": {},
   "source": [
    "# Data Analysis"
   ]
  },
  {
   "cell_type": "code",
   "execution_count": 33,
   "id": "9886a44b",
   "metadata": {
    "ExecuteTime": {
     "end_time": "2022-06-14T12:04:07.668137Z",
     "start_time": "2022-06-14T12:04:07.664645Z"
    }
   },
   "outputs": [],
   "source": [
    "#Quais os 3 objetivos da EDA?\n",
    "\n",
    "#ganhar conhecimento de negocio.\n",
    "#validar hipoteses de negocio. (insights)\n",
    "#perceber variaveis que são importante para o modelo\n"
   ]
  },
  {
   "cell_type": "code",
   "execution_count": 34,
   "id": "f4ed1ea3",
   "metadata": {
    "ExecuteTime": {
     "end_time": "2022-06-14T12:04:07.726930Z",
     "start_time": "2022-06-14T12:04:07.670250Z"
    }
   },
   "outputs": [],
   "source": [
    "df4 = df3.copy()"
   ]
  },
  {
   "cell_type": "markdown",
   "id": "97cfdd42",
   "metadata": {},
   "source": [
    "## Univariate Analysis "
   ]
  },
  {
   "cell_type": "markdown",
   "id": "39a8917b",
   "metadata": {},
   "source": [
    "### Response Variable "
   ]
  },
  {
   "cell_type": "code",
   "execution_count": 35,
   "id": "b365242a",
   "metadata": {
    "ExecuteTime": {
     "end_time": "2022-06-14T12:04:08.062033Z",
     "start_time": "2022-06-14T12:04:07.728825Z"
    },
    "hide_input": true
   },
   "outputs": [
    {
     "data": {
      "text/plain": [
       "<AxesSubplot:xlabel='sales'>"
      ]
     },
     "execution_count": 35,
     "metadata": {},
     "output_type": "execute_result"
    },
    {
     "data": {
      "image/png": "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\n",
      "text/plain": [
       "<Figure size 432x288 with 1 Axes>"
      ]
     },
     "metadata": {
      "needs_background": "light"
     },
     "output_type": "display_data"
    }
   ],
   "source": [
    "sns.distplot( df4['sales'], kde=False )"
   ]
  },
  {
   "cell_type": "code",
   "execution_count": null,
   "id": "aeb44d28",
   "metadata": {},
   "outputs": [],
   "source": []
  },
  {
   "cell_type": "markdown",
   "id": "504f3c18",
   "metadata": {},
   "source": [
    "### Numerical Variable"
   ]
  },
  {
   "cell_type": "code",
   "execution_count": 36,
   "id": "fcbbc79b",
   "metadata": {
    "ExecuteTime": {
     "end_time": "2022-06-14T12:04:11.095383Z",
     "start_time": "2022-06-14T12:04:08.065775Z"
    },
    "hide_input": true
   },
   "outputs": [
    {
     "data": {
      "image/png": "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